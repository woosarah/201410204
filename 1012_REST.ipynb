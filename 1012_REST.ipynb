{
 "cells": [
  {
   "cell_type": "markdown",
   "metadata": {},
   "source": [
    "#REST"
   ]
  },
  {
   "cell_type": "code",
   "execution_count": 1,
   "metadata": {
    "collapsed": true
   },
   "outputs": [],
   "source": [
    "import os\n",
    "KEY=\"49756971476179613539737a456442\"\n",
    "TYPE='json'\n",
    "SERVICE='SearchSTNBySubwayLineService'\n",
    "START_INDEX='1'\n",
    "END_INDEX='10'\n",
    "LINE_NUM='2'\n",
    "params=os.path.join(KEY, TYPE, SERVICE,START_INDEX,END_INDEX,LINE_NUM)"
   ]
  },
  {
   "cell_type": "code",
   "execution_count": 14,
   "metadata": {
    "collapsed": true
   },
   "outputs": [],
   "source": [
    "url='http://openapi.seoul.go.kr:8088/'\n",
    "url+=KEY\n",
    "url+='/'\n",
    "url+=TYPE\n",
    "url+='/'\n",
    "url+=SERVICE\n",
    "url+='/'\n",
    "url+=START_INDEX\n",
    "url+='/'\n",
    "url+=END_INDEX\n",
    "url+='/'\n",
    "url+=LINE_NUM"
   ]
  },
  {
   "cell_type": "code",
   "execution_count": 15,
   "metadata": {
    "collapsed": false
   },
   "outputs": [
    {
     "name": "stdout",
     "output_type": "stream",
     "text": [
      "http://openapi.seoul.go.kr:8088/49756971476179613539737a456442/json/SearchSTNBySubwayLineService/1/10/2\n"
     ]
    }
   ],
   "source": [
    "print url"
   ]
  },
  {
   "cell_type": "code",
   "execution_count": 16,
   "metadata": {
    "collapsed": false,
    "scrolled": true
   },
   "outputs": [
    {
     "name": "stdout",
     "output_type": "stream",
     "text": [
      "49756971476179613539737a456442\\json\\SearchSTNBySubwayLineService\\1\\10\\2\n"
     ]
    }
   ],
   "source": [
    "print params"
   ]
  },
  {
   "cell_type": "code",
   "execution_count": null,
   "metadata": {
    "collapsed": true
   },
   "outputs": [],
   "source": [
    "/json/SearchSTNBySubwayLineService/1/5/1/"
   ]
  },
  {
   "cell_type": "code",
   "execution_count": 5,
   "metadata": {
    "collapsed": false
   },
   "outputs": [
    {
     "name": "stdout",
     "output_type": "stream",
     "text": [
      "http://openapi.seoul.go.kr:8088/49756971476179613539737a456442\\json\\SearchSTNBySubwayLineService\\1\\10\\2\n"
     ]
    }
   ],
   "source": [
    "import urlparse\n",
    "_url='http://openapi.seoul.go.kr:8088/'\n",
    "url=urlparse.urljoin(_url,params)\n",
    "print url"
   ]
  },
  {
   "cell_type": "code",
   "execution_count": 17,
   "metadata": {
    "collapsed": false
   },
   "outputs": [],
   "source": [
    "myurl='http://openapi.seoul.go.kr:8088/49756971476179613539737a456442/xml/SearchSTNBySubwayLineService/1/5/1/'"
   ]
  },
  {
   "cell_type": "code",
   "execution_count": 18,
   "metadata": {
    "collapsed": false
   },
   "outputs": [],
   "source": [
    "import requests\n",
    "data=requests.get(myurl)"
   ]
  },
  {
   "cell_type": "code",
   "execution_count": 19,
   "metadata": {
    "collapsed": false,
    "scrolled": true
   },
   "outputs": [
    {
     "name": "stdout",
     "output_type": "stream",
     "text": [
      "<?xml version=\"1.0\" encoding=\"UTF-8\"?><SearchSTNBySubwayLineService>\n",
      "<list_total_count>101</list_total_count>\n",
      "<RESULT>\n",
      "<CODE>INFO-000</CODE>\n",
      "<MESSAGE>정상 처리되었습니다</MESSAGE>\n",
      "</RESULT>\n",
      "<row>\n",
      "<STATION_CD>1916</STATION_CD>\n",
      "<STATION_NM>소요산</STATION_NM>\n",
      "<LINE_NUM>1</LINE_NUM>\n",
      "<FR_CODE>100</FR_CODE>\n",
      "</row>\n",
      "<row>\n",
      "<STATION_CD>1915</STATION_CD>\n",
      "<STATION_NM>동두천</STATION_NM>\n",
      "<LINE_NUM>1</LINE_NUM>\n",
      "<FR_CODE>101</FR_CODE>\n",
      "</row>\n",
      "<row>\n",
      "<STATION_CD>1914</STATION_CD>\n",
      "<STATION_NM>보산</STATION_NM>\n",
      "<LINE_NUM>1</LINE_NUM>\n",
      "<FR_CODE>102</FR_CODE>\n",
      "</row>\n",
      "<row>\n",
      "<STATION_CD>1913</STATION_CD>\n",
      "<STATION_NM>동두천중앙</STATION_NM>\n",
      "<LINE_NUM>1</LINE_NUM>\n",
      "<FR_CODE>103</FR_CODE>\n",
      "</row>\n",
      "<row>\n",
      "<STATION_CD>1912</STATION_CD>\n",
      "<STATION_NM>지행</STATION_NM>\n",
      "<LINE_NUM>1</LINE_NUM>\n",
      "<FR_CODE>104</FR_CODE>\n",
      "</row>\n",
      "</SearchSTNBySubwayLineService>\n",
      "\n"
     ]
    }
   ],
   "source": [
    "print data.text"
   ]
  },
  {
   "cell_type": "code",
   "execution_count": 21,
   "metadata": {
    "collapsed": false
   },
   "outputs": [],
   "source": [
    "r=requests.get('http://httpbin.org/get')"
   ]
  },
  {
   "cell_type": "code",
   "execution_count": 22,
   "metadata": {
    "collapsed": false
   },
   "outputs": [
    {
     "data": {
      "text/plain": [
       "200"
      ]
     },
     "execution_count": 22,
     "metadata": {},
     "output_type": "execute_result"
    }
   ],
   "source": [
    "r.status_code"
   ]
  },
  {
   "cell_type": "code",
   "execution_count": 23,
   "metadata": {
    "collapsed": true
   },
   "outputs": [],
   "source": [
    "r=requests.get('http://httpbin.org/status/404')"
   ]
  },
  {
   "cell_type": "code",
   "execution_count": 24,
   "metadata": {
    "collapsed": false
   },
   "outputs": [
    {
     "data": {
      "text/plain": [
       "404"
      ]
     },
     "execution_count": 24,
     "metadata": {},
     "output_type": "execute_result"
    }
   ],
   "source": [
    "r.status_code"
   ]
  },
  {
   "cell_type": "code",
   "execution_count": 26,
   "metadata": {
    "collapsed": false
   },
   "outputs": [
    {
     "data": {
      "text/plain": [
       "{'Content-Length': '0', 'Server': 'nginx', 'Connection': 'keep-alive', 'Access-Control-Allow-Credentials': 'true', 'Date': 'Wed, 12 Oct 2016 08:39:42 GMT', 'Access-Control-Allow-Origin': '*', 'Content-Type': 'text/html; charset=utf-8'}"
      ]
     },
     "execution_count": 26,
     "metadata": {},
     "output_type": "execute_result"
    }
   ],
   "source": [
    "r.headers"
   ]
  },
  {
   "cell_type": "code",
   "execution_count": 28,
   "metadata": {
    "collapsed": false
   },
   "outputs": [
    {
     "name": "stdout",
     "output_type": "stream",
     "text": [
      "{\n",
      "  \"args\": {}, \n",
      "  \"headers\": {\n",
      "    \"Accept\": \"*/*\", \n",
      "    \"Host\": \"httpbin.org\", \n",
      "    \"User-Agent\": \"curl/7.49.0\"\n",
      "  }, \n",
      "  \"origin\": \"203.237.172.100\", \n",
      "  \"url\": \"http://httpbin.org/get\"\n",
      "}\n"
     ]
    },
    {
     "name": "stderr",
     "output_type": "stream",
     "text": [
      "  % Total    % Received % Xferd  Average Speed   Time    Time     Time  Current\n",
      "                                 Dload  Upload   Total   Spent    Left  Speed\n",
      "\n",
      "  0     0    0     0    0     0      0      0 --:--:-- --:--:-- --:--:--     0\n",
      "  0     0    0     0    0     0      0      0 --:--:-- --:--:-- --:--:--     0\n",
      "100   188  100   188    0     0    245      0 --:--:-- --:--:-- --:--:--   245\n"
     ]
    }
   ],
   "source": [
    "!curl http://httpbin.org/get"
   ]
  },
  {
   "cell_type": "raw",
   "metadata": {},
   "source": [
    "##한글"
   ]
  },
  {
   "cell_type": "code",
   "execution_count": 2,
   "metadata": {
    "collapsed": false,
    "scrolled": true
   },
   "outputs": [
    {
     "ename": "NameError",
     "evalue": "name 'requests' is not defined",
     "output_type": "error",
     "traceback": [
      "\u001b[1;31m---------------------------------------------------------------------------\u001b[0m",
      "\u001b[1;31mNameError\u001b[0m                                 Traceback (most recent call last)",
      "\u001b[1;32m<ipython-input-2-a95500113cbf>\u001b[0m in \u001b[0;36m<module>\u001b[1;34m()\u001b[0m\n\u001b[1;32m----> 1\u001b[1;33m \u001b[0mr\u001b[0m\u001b[1;33m=\u001b[0m\u001b[0mrequests\u001b[0m\u001b[1;33m.\u001b[0m\u001b[0mget\u001b[0m\u001b[1;33m(\u001b[0m\u001b[1;34m'http://httpbin.org/encoding/utf8'\u001b[0m\u001b[1;33m)\u001b[0m\u001b[1;33m\u001b[0m\u001b[0m\n\u001b[0m",
      "\u001b[1;31mNameError\u001b[0m: name 'requests' is not defined"
     ]
    }
   ],
   "source": [
    "r=requests.get('http://httpbin.org/encoding/utf8')"
   ]
  },
  {
   "cell_type": "code",
   "execution_count": null,
   "metadata": {
    "collapsed": true
   },
   "outputs": [],
   "source": []
  }
 ],
 "metadata": {
  "kernelspec": {
   "display_name": "Python [Root]",
   "language": "python",
   "name": "Python [Root]"
  },
  "language_info": {
   "codemirror_mode": {
    "name": "ipython",
    "version": 2
   },
   "file_extension": ".py",
   "mimetype": "text/x-python",
   "name": "python",
   "nbconvert_exporter": "python",
   "pygments_lexer": "ipython2",
   "version": "2.7.12"
  }
 },
 "nbformat": 4,
 "nbformat_minor": 0
}
