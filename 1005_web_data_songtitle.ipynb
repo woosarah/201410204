{
 "cells": [
  {
   "cell_type": "code",
   "execution_count": 9,
   "metadata": {
    "collapsed": false
   },
   "outputs": [
    {
     "name": "stdout",
     "output_type": "stream",
     "text": [
      "Writing ds_web_data_hello_scrapy.py\n"
     ]
    }
   ],
   "source": [
    "%%writefile ds_web_data_hello_scrapy.py\n",
    "import scrapy\n",
    "\n",
    "class myItem(scrapy.item.Item):\n",
    "    title = scrapy.item.Field()\n",
    "\n",
    "class myCrawler(scrapy.spiders.CrawlSpider):\n",
    "    name = 'myAppName'\n",
    "    start_urls = ['https://data.go.kr']\n",
    "    def parse(self, response):\n",
    "        item = myItem()\n",
    "        #title = scrapy.selector.Selector(response).xpath('//title/text()')\n",
    "        title = scrapy.selector.Selector(response).css('title').extract()\n",
    "        print \"---Hello---\", title\n",
    "        item['title']=title\n",
    "        return item"
   ]
  },
  {
   "cell_type": "code",
   "execution_count": 12,
   "metadata": {
    "collapsed": true
   },
   "outputs": [],
   "source": [
    "import lxml.html\n",
    "from lxml.cssselect import CSSSelector"
   ]
  },
  {
   "cell_type": "code",
   "execution_count": 14,
   "metadata": {
    "collapsed": false
   },
   "outputs": [
    {
     "ename": "NameError",
     "evalue": "name 'mydata' is not defined",
     "output_type": "error",
     "traceback": [
      "\u001b[1;31m---------------------------------------------------------------------------\u001b[0m",
      "\u001b[1;31mNameError\u001b[0m                                 Traceback (most recent call last)",
      "\u001b[1;32m<ipython-input-14-45bf617286fe>\u001b[0m in \u001b[0;36m<module>\u001b[1;34m()\u001b[0m\n\u001b[1;32m----> 1\u001b[1;33m \u001b[0mhtml\u001b[0m\u001b[1;33m=\u001b[0m\u001b[0mlxml\u001b[0m\u001b[1;33m.\u001b[0m\u001b[0mhtml\u001b[0m\u001b[1;33m.\u001b[0m\u001b[0mfromstring\u001b[0m\u001b[1;33m(\u001b[0m\u001b[0mmydata\u001b[0m\u001b[1;33m)\u001b[0m\u001b[1;33m\u001b[0m\u001b[0m\n\u001b[0m",
      "\u001b[1;31mNameError\u001b[0m: name 'mydata' is not defined"
     ]
    }
   ],
   "source": [
    "html=lxml.html.fromstring(mydata)"
   ]
  },
  {
   "cell_type": "code",
   "execution_count": 15,
   "metadata": {
    "collapsed": true
   },
   "outputs": [],
   "source": [
    "import urllib"
   ]
  },
  {
   "cell_type": "code",
   "execution_count": 16,
   "metadata": {
    "collapsed": true
   },
   "outputs": [],
   "source": [
    "keyword='비오는'"
   ]
  },
  {
   "cell_type": "code",
   "execution_count": 17,
   "metadata": {
    "collapsed": true
   },
   "outputs": [],
   "source": [
    "f = urllib.urlopen(\"http://music.naver.com/search/search.nhn?query=\"+keyword+\"&x=0&y=0\")"
   ]
  },
  {
   "cell_type": "code",
   "execution_count": 18,
   "metadata": {
    "collapsed": true
   },
   "outputs": [],
   "source": [
    "mydata = f.read()"
   ]
  },
  {
   "cell_type": "code",
   "execution_count": 19,
   "metadata": {
    "collapsed": true
   },
   "outputs": [],
   "source": [
    "import lxml.html\n",
    "from lxml.cssselect import CSSSelector"
   ]
  },
  {
   "cell_type": "code",
   "execution_count": 20,
   "metadata": {
    "collapsed": true
   },
   "outputs": [],
   "source": [
    "html = lxml.html.fromstring(mydata)"
   ]
  },
  {
   "cell_type": "code",
   "execution_count": 21,
   "metadata": {
    "collapsed": true
   },
   "outputs": [],
   "source": [
    "sel = CSSSelector('#content > div:nth-child(4) \\\n",
    "    > div._tracklist_mytrack.tracklist_table.tracklist_type1._searchTrack \\\n",
    "    > table > tbody > tr > td.name > a.title')"
   ]
  },
  {
   "cell_type": "code",
   "execution_count": 22,
   "metadata": {
    "collapsed": true
   },
   "outputs": [],
   "source": [
    "results = sel(html)"
   ]
  },
  {
   "cell_type": "code",
   "execution_count": 24,
   "metadata": {
    "collapsed": false
   },
   "outputs": [
    {
     "name": "stdout",
     "output_type": "stream",
     "text": [
      "비 오는 거리\n",
      "비 오는 날\n",
      "비오는 날 수채화\n",
      "비오는날 (동요) (멜로디 MR)\n",
      "비오는 거리\n",
      "비오는 밤에\n",
      "비오는 날 (Inst.)\n",
      "비 오는 거리  (Feat. 핫펠트)\n",
      "비오는 남산\n",
      "비오는 압구정\n",
      "One More Time\n",
      "Yesterday (비틀즈 예스터 데이 : CF `시몬스침대`)\n",
      "비 오는 날의 수채화\n",
      "카치니 - 아베마리아 (Caccini - Ave Maria) (드라마...\n",
      "비오는날 수채화 (발라드 Ver.) (With 김명상, 강윤식)\n"
     ]
    }
   ],
   "source": [
    "for item in results:\n",
    "    print item.text_content()"
   ]
  },
  {
   "cell_type": "code",
   "execution_count": 42,
   "metadata": {
    "collapsed": false
   },
   "outputs": [
    {
     "name": "stdout",
     "output_type": "stream",
     "text": [
      "비 오는 거리\n",
      "비 오는 날\n",
      "비오는 날 수채화\n",
      "비오는날 (동요) (멜로디 MR)\n",
      "비오는 거리\n",
      "비오는 밤에\n",
      "비오는 날 (Inst.)\n",
      "비 오는 거리  (Feat. 핫펠트)\n",
      "비오는 남산\n",
      "비오는 압구정\n",
      "One More Time\n",
      "Yesterday (비틀즈 예스터 데이 : CF `시몬스침대`)\n",
      "비 오는 날의 수채화\n",
      "카치니 - 아베마리아 (Caccini - Ave Maria) (드라마...\n",
      "비오는날 수채화 (발라드 Ver.) (With 김명상, 강윤식)\n"
     ]
    }
   ],
   "source": [
    "for item in results:\n",
    "    #print lxml.html.tostring(item)\n",
    "    print item.text_content()"
   ]
  },
  {
   "cell_type": "code",
   "execution_count": 43,
   "metadata": {
    "collapsed": true
   },
   "outputs": [],
   "source": [
    "from lxml.cssselect import CSSSelector"
   ]
  },
  {
   "cell_type": "code",
   "execution_count": 51,
   "metadata": {
    "collapsed": true
   },
   "outputs": [],
   "source": [
    "sel = CSSSelector('table[summary] > tbody > ._tracklist_move')"
   ]
  },
  {
   "cell_type": "code",
   "execution_count": 52,
   "metadata": {
    "collapsed": true
   },
   "outputs": [],
   "source": [
    "results = sel(html)"
   ]
  },
  {
   "cell_type": "code",
   "execution_count": 53,
   "metadata": {
    "collapsed": false
   },
   "outputs": [
    {
     "data": {
      "text/plain": [
       "[<Element tr at 0x4228c28>,\n",
       " <Element tr at 0x4228ea8>,\n",
       " <Element tr at 0x4228458>,\n",
       " <Element tr at 0x4228d68>,\n",
       " <Element tr at 0x4228e58>,\n",
       " <Element tr at 0x4228ef8>,\n",
       " <Element tr at 0x4228f48>,\n",
       " <Element tr at 0x4228f98>,\n",
       " <Element tr at 0x426c048>,\n",
       " <Element tr at 0x426c098>,\n",
       " <Element tr at 0x426c0e8>,\n",
       " <Element tr at 0x426c138>,\n",
       " <Element tr at 0x426c188>,\n",
       " <Element tr at 0x426c1d8>,\n",
       " <Element tr at 0x426c228>,\n",
       " <Element tr at 0x426c278>]"
      ]
     },
     "execution_count": 53,
     "metadata": {},
     "output_type": "execute_result"
    }
   ],
   "source": [
    "results"
   ]
  },
  {
   "cell_type": "code",
   "execution_count": 54,
   "metadata": {
    "collapsed": false,
    "scrolled": true
   },
   "outputs": [
    {
     "name": "stdout",
     "output_type": "stream",
     "text": [
      "<tr class=\"_tracklist_move {TRACK_TYPE}\" style=\"display:none;\" trackdata=\"{TRACK_DATA}\">\r\n",
      "\r\n",
      "\r\n",
      "\t\t\t\t\t\t\r\n",
      "\t\t\t\t\t\t\t<td class=\"chk\"><input type=\"checkbox\" title=\"&#49440;&#53469;\" class=\"_chkbox_item input_chk {TRACK_CHECK_NCLICKS}\"> </td>\r\n",
      "\t\t\t\t\t\t\r\n",
      "\t\t\t\t\t\t\r\n",
      "\t\t\t\t\t\t\t<td class=\"order\">{TRACK_NUM}</td>\r\n",
      "\t\t\t\t\t\t\r\n",
      "\t\t\t\t\t\t\t<td class=\"name\">\r\n",
      "\r\n",
      "\t\t\t\t\t\t\t\t{PLAY_TOGGLE}\r\n",
      "\t\t\t\t\t\t\t\t{ADD_TOGGLE}\r\n",
      "\r\n",
      "\r\n",
      "\t\t\t\t\t\t\t\t<span class=\"_ico_title ico_title\"><img height=\"18\" width=\"23\" alt=\"TITLE\" src=\"http://static.naver.net/nmusic/201008/blank.gif\"></span>\r\n",
      "\t\t\t\t\t\t\t\t<span class=\"_ico_19 ico19\"><img height=\"18\" width=\"13\" src=\"http://static.naver.net/nmusic/201008/blank.gif\"></span>\r\n",
      "\r\n",
      "\r\n",
      "\t\t\t\t\t\t\t\t{TRACK_SONG_NAME}\r\n",
      "\r\n",
      "\t\t\t\t\t\t\t</td>\r\n",
      "\r\n",
      "\t\t\t\t\t\t\t<td class=\"_artist artist {NO_ELL}\">\r\n",
      "\r\n",
      "\r\n",
      "                                   {ARTIST}\r\n",
      "\r\n",
      "\t\t\t\t\t\t\t</td>\r\n",
      "\r\n",
      "\t\t\t\t\t\t\r\n",
      "                            <td class=\"album\">\r\n",
      "                                {ALBUM}\r\n",
      "                            </td>\r\n",
      "                        \r\n",
      "                        \r\n",
      "                        \t<td class=\"like\">\r\n",
      "\t\t\t\t\t\t\t\t<div class=\"u_likeit_list_module\">\r\n",
      "\t\t\t\t\t\t\t\t\t<a href=\"javascript:void(0)\" title=\"&#51339;&#50500;&#50836;\" class=\"u_likeit_list_btn u_type_img NPI=a:favo,r:1,i:\" data-sid=\"MUSIC\" data-did=\"MUSIC\" data-cid=\"TRACK_\" data-likeit=\"0\"><span class=\"u_ico\"></span><em class=\"u_txt\"></em><em class=\"u_cnt\"></em></a>\r\n",
      "\t\t\t\t\t\t\t\t</div>\r\n",
      "                        \t</td>\r\n",
      "                        \r\n",
      "\t\t\t\t\t\t\r\n",
      "\t\t\t\t\t\t\t<td class=\"video\">{MUSIC_VIDEO}</td>\r\n",
      "\t\t\t\t\t\t\r\n",
      "\t\t\t\t\t\t\r\n",
      "\t\t\t\t\t\t\t<td class=\"lyric\">{LYRIC}</td>\r\n",
      "\t\t\t\t\t\t\r\n",
      "\t\t\t\t\t\t\r\n",
      "\t\t\t\t\t\t\t<td class=\"get\">{SCRAP_ROW}</td>\r\n",
      "\t\t\t\t\t\t\r\n",
      "\t\t\t\t\t\t\r\n",
      "\t\t\t\t\t\t\r\n",
      "\t\t\t\t\t\t\t<td class=\"radio\">{RADIO}</td>\r\n",
      "\t\t\t\t\t\t\r\n",
      "\r\n",
      "\t\t\t\t\t\t\r\n",
      "\t\t\t\t\t\t\t<td class=\"buy\">\r\n",
      "\r\n",
      "\t\t\t\t\t\t\t\t{MP3_BUY_LAYER_BTN}\r\n",
      "\r\n",
      "\t\t\t\t\t\t\t\t<div style=\"display:none;\" class=\"_buy_layer buy_layer\">\r\n",
      "\t\t\t\t\t\t\t\t\t<ul>\r\n",
      "\r\n",
      "\t\t\t\t\t\t\t\t\t<li>{MP3_BUY_LIST}</li>\r\n",
      "\t\t\t\t\t\t\t\t\t<li>{MUSIC_SPRING}</li>\r\n",
      "\t\t\t\t\t\t\t\t\t<li>{BELL_SOUND}</li>\r\n",
      "\t\t\t\t\t\t\t\t\t<li>{CONNECTION_SOUND}</li>\r\n",
      "\r\n",
      "\t\t\t\t\t\t\t\t\t</ul>\r\n",
      "\t\t\t\t\t\t\t\t\t<span class=\"bg\"></span>\r\n",
      "\t\t\t\t\t\t\t\t</div>\r\n",
      "\t\t\t\t\t\t\t</td>\r\n",
      "\t\t\t\t\t\t\r\n",
      "\r\n",
      "\t\t\t\t\t\t\r\n",
      "\t\t\t\t\t\t\t</tr>\r\n",
      "\r\n",
      "\r\n",
      "\r\n",
      "\r\n",
      "\r\n",
      "\r\n",
      "\r\n",
      "\r\n",
      "\t\n"
     ]
    }
   ],
   "source": [
    "print lxml.html.tostring(results[0])"
   ]
  },
  {
   "cell_type": "code",
   "execution_count": 55,
   "metadata": {
    "collapsed": false
   },
   "outputs": [],
   "source": [
    "_selName = CSSSelector('.name > a.title')\n",
    "_selArtist = CSSSelector('._artist.artist')\n",
    "_selAlbum= CSSSelector('.album > a')\n",
    "_name=_selName(results[1])\n",
    "_artist=_selArtist(results[1])\n",
    "_album=_selAlbum(results[1])"
   ]
  },
  {
   "cell_type": "code",
   "execution_count": 56,
   "metadata": {
    "collapsed": false,
    "scrolled": true
   },
   "outputs": [
    {
     "name": "stdout",
     "output_type": "stream",
     "text": [
      "이승훈 --- 비 오는 거리 --- 1집 비오는 거리\n",
      "오소연 --- 비 오는 날 --- 비 오는 날\n",
      "강인원 --- 비오는 날 수채화 --- 비오는 날 수채화 1 OST\n",
      "동요시대 --- 비오는날 (동요) (멜로디 MR) --- 동요 MR반주 5\n",
      "서영은 --- 비오는 거리 --- 1집 Romantic 1\n",
      "루드 페이퍼(Rude Paper) --- 비오는 밤에 --- 1집 Paper Spectrum\n",
      "김민우 --- 비오는 날 (Inst.) --- 비오는 날\n",
      "베이빌론(Babylon) --- 비 오는 거리  (Feat. 핫펠트) --- BETWEEN US\n",
      "조영순 --- 비오는 남산 --- 무진장 트롯트 골든 1＆2\n",
      "브라운 아이즈 --- 비오는 압구정 --- 2집 Reason 4 Breathing?\n",
      "Richard Marx --- One More Time --- 김현주의 비오는 거리\n",
      "Romantisch Jazzkapelle --- Yesterday (비틀즈 예스터 데이 : CF `시몬스침대`) --- 뉴에이지 연가 : 비 오는 날의 거리, 추억, 그리고 아름다운 재즈 피아노(Pop 올드 팝, 클래식, 영화 OST 베스트 연주 음악)\n",
      "SG 워너비 --- 비 오는 날의 수채화 --- Classic Odyssey\n",
      "Various Artists --- 카치니 - 아베마리아 (Caccini - Ave Maria) (드라마... --- Rain Cello : 비 오는 날, 첼로\n",
      "강윤식 --- 비오는날 수채화 (발라드 Ver.) (With 김명상, 강윤식) --- 1980-2010 리뉴얼 - 내 노래 다시 부르기\n"
     ]
    }
   ],
   "source": [
    "_selName = CSSSelector('.name > a.title')\n",
    "_selArtist = CSSSelector('._artist.artist')\n",
    "_selAlbum= CSSSelector('.album > a')\n",
    "for item in results:\n",
    "    #print lxml.html.tostring(item)\n",
    "    _name=_selName(item)\n",
    "    _artist=_selArtist(item)\n",
    "    _album=_selAlbum(item)\n",
    "    if _name:\n",
    "        print _artist[0].text_content().strip(),\n",
    "        print \"---\",\n",
    "        print _name[0].text_content(),\n",
    "        print \"---\",\n",
    "        print _album[0].text_content()"
   ]
  },
  {
   "cell_type": "markdown",
   "metadata": {},
   "source": [
    "웹데이터-10 : ip주소에서 지역정보 알아내기"
   ]
  },
  {
   "cell_type": "markdown",
   "metadata": {},
   "source": [
    "http://freegeoip.net/ ip주소 알아내기"
   ]
  },
  {
   "cell_type": "code",
   "execution_count": 61,
   "metadata": {
    "collapsed": true
   },
   "outputs": [],
   "source": [
    "import json"
   ]
  },
  {
   "cell_type": "code",
   "execution_count": 62,
   "metadata": {
    "collapsed": true
   },
   "outputs": [],
   "source": [
    "import urllib"
   ]
  },
  {
   "cell_type": "code",
   "execution_count": 64,
   "metadata": {
    "collapsed": false
   },
   "outputs": [],
   "source": [
    "ipdata=urllib.urlopen('http://freegeoip.net/json/*')"
   ]
  },
  {
   "cell_type": "code",
   "execution_count": 65,
   "metadata": {
    "collapsed": false
   },
   "outputs": [
    {
     "data": {
      "text/plain": [
       "'404 page not found\\n'"
      ]
     },
     "execution_count": 65,
     "metadata": {},
     "output_type": "execute_result"
    }
   ],
   "source": [
    "ipdata.read()"
   ]
  }
 ],
 "metadata": {
  "kernelspec": {
   "display_name": "Python [Root]",
   "language": "python",
   "name": "Python [Root]"
  },
  "language_info": {
   "codemirror_mode": {
    "name": "ipython",
    "version": 2
   },
   "file_extension": ".py",
   "mimetype": "text/x-python",
   "name": "python",
   "nbconvert_exporter": "python",
   "pygments_lexer": "ipython2",
   "version": "2.7.12"
  }
 },
 "nbformat": 4,
 "nbformat_minor": 0
}
