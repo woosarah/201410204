{
 "cells": [
  {
   "cell_type": "markdown",
   "metadata": {},
   "source": [
    "## T3. Twitter에서 'Seoul' 10개 검색하기"
   ]
  },
  {
   "cell_type": "code",
   "execution_count": 1,
   "metadata": {
    "collapsed": false
   },
   "outputs": [
    {
     "name": "stdout",
     "output_type": "stream",
     "text": [
      "C:\\Users\\LG-PC\\Documents\\src\\twitter.properties\n"
     ]
    }
   ],
   "source": [
    "import os\n",
    "keyPath=os.path.join(os.getcwd(),'src','twitter.properties')\n",
    "print keyPath\n",
    "\n",
    "f=open(keyPath,'r')\n",
    "lines=f.readlines()\n",
    "\n",
    "def getKey(keyPath):\n",
    "    d=dict()\n",
    "    f=open(keyPath,'r')\n",
    "    lines=f.readlines()\n",
    "    for line in lines:\n",
    "        row=line.split('=')\n",
    "        row0=row[0]\n",
    "        d[row0]=row[1].strip()\n",
    "    return d\n",
    "\n",
    "key=getKey(keyPath)"
   ]
  },
  {
   "cell_type": "code",
   "execution_count": 2,
   "metadata": {
    "collapsed": false
   },
   "outputs": [],
   "source": [
    "import oauth2 as oauth\n",
    "import json\n",
    "\n",
    "consumer = oauth.Consumer(key=key['CONSUMERKEY'], secret=key['CONSUMERSECRET'])\n",
    "token=oauth.Token(key=key['ACCESSTOKEN'], secret=key['ACCESSTOKENSECRET'])"
   ]
  },
  {
   "cell_type": "code",
   "execution_count": 3,
   "metadata": {
    "collapsed": true
   },
   "outputs": [],
   "source": [
    "client = oauth.Client(consumer, token)"
   ]
  },
  {
   "cell_type": "code",
   "execution_count": 4,
   "metadata": {
    "collapsed": false
   },
   "outputs": [
    {
     "name": "stdout",
     "output_type": "stream",
     "text": [
      "Help on method request in module oauth2:\n",
      "\n",
      "request(self, uri, method='GET', body='', headers=None, redirections=5, connection_type=None) method of oauth2.Client instance\n",
      "\n"
     ]
    }
   ],
   "source": [
    "help(client.request)"
   ]
  },
  {
   "cell_type": "code",
   "execution_count": 5,
   "metadata": {
    "collapsed": true
   },
   "outputs": [],
   "source": [
    "import urllib\n",
    "url1 = \"https://api.twitter.com/1.1/search/tweets.json\"\n",
    "myparam={'q':'seoul','count':20}\n",
    "mybody=urllib.urlencode(myparam)\n",
    "\n",
    "resp, tsearch = client.request(url1+\"?\"+mybody, method=\"GET\")\n",
    "tsearch_json = json.loads(tsearch)"
   ]
  },
  {
   "cell_type": "code",
   "execution_count": 6,
   "metadata": {
    "collapsed": false,
    "scrolled": true
   },
   "outputs": [
    {
     "name": "stdout",
     "output_type": "stream",
     "text": [
      "<type 'dict'>\n",
      "[u'search_metadata', u'statuses']\n",
      "20\n"
     ]
    }
   ],
   "source": [
    "print type(tsearch_json)\n",
    "print tsearch_json.keys()\n",
    "print len(tsearch_json['statuses'])"
   ]
  },
  {
   "cell_type": "code",
   "execution_count": 7,
   "metadata": {
    "collapsed": false
   },
   "outputs": [
    {
     "data": {
      "text/plain": [
       "27"
      ]
     },
     "execution_count": 7,
     "metadata": {},
     "output_type": "execute_result"
    }
   ],
   "source": [
    "len(tsearch_json['statuses'][0])"
   ]
  },
  {
   "cell_type": "code",
   "execution_count": 8,
   "metadata": {
    "collapsed": false
   },
   "outputs": [
    {
     "name": "stdout",
     "output_type": "stream",
     "text": [
      "[0]\t798356629406089217\tヾpiaWP ✩★◦°*:RT @_firstsnow: Taeyeon - Pops in Seoul (11:11 MV Shooting BTS) https://t.co/FXhq6jmGLN\n",
      "[1]\t798356626843516928\tFlights Travel Us:Flight &gt; Women: First Chinese Woman To Fly J-10 Fighter Killed In.. https://t.co/KFa1zy0gdf #flight https://t.co/VtOFV5hYRD\n",
      "[2]\t798356625861976064\t요시!:RT @HistoryInPix: Seoul, 1968 https://t.co/TyyLUcnCn3\n",
      "[3]\t798356623517368320\tKrty 카티:RT @mystifize: BIGBANG filming their MV for new single in Seoul today for imminent comeback, with the aim for MADE album to be released by…\n",
      "[4]\t798356612721176576\t🗣:RT @BJRambo_0309: [TS] 161115 arirangTV Pops In Seoul 일레븐일레븐 MV촬영현장 태연 1080i BJRambo.ts\n",
      "https://t.co/UEA1Sj5Z0l\n",
      "#태연 #Taeyeon #일레븐일레븐 https:…\n",
      "[5]\t798356593943322624\t-:RT @mystifize: BIGBANG filming their MV for new single in Seoul today for imminent comeback, with the aim for MADE album to be released by…\n",
      "[6]\t798356561454206976\tMir:RT @FALLinHOSH: Sports Seoul:\n",
      "#Seventeen to attend Melon Music Award 2016, Saturday 19 November from 7 pm ~ end.\n",
      "#세븐틴 https://t.co/cbIYhCPH…\n",
      "[7]\t798356550586798080\t후갱:RT @HistoryInPix: Seoul, 1968 https://t.co/TyyLUcnCn3\n",
      "[8]\t798356550406418432\tLudvin:RT @HistoryInPix: Seoul, 1968 https://t.co/TyyLUcnCn3\n",
      "[9]\t798356543309840384\t문:RT @HistoryInPix: Seoul, 1968 https://t.co/TyyLUcnCn3\n",
      "[10]\t798356539274690560\tdxisy:RT @GDtotheTOP: TOP to enlist in the next 3 months, to be part of the Seoul District Police Conscripted Policemen under Special Forces Bras…\n",
      "[11]\t798356528382156801\t김민정:마감 넘긴 원고가 맘에 안 들어 30분만에 고쳐 다시 보내기로.\n",
      "[12]\t798356512611696640\t÷Golden☆418:RT @BJRambo_0309: [TS] 161115 arirangTV Pops In Seoul 일레븐일레븐 MV촬영현장 태연 1080i BJRambo.ts\n",
      "https://t.co/UEA1Sj5Z0l\n",
      "#태연 #Taeyeon #일레븐일레븐 https:…\n",
      "[13]\t798356505556725760\t#forever7012:RT @_firstsnow: Taeyeon - Pops in Seoul (11:11 MV Shooting BTS) https://t.co/FXhq6jmGLN\n",
      "[14]\t798356474879766530\tlina 🇲🇽:RT @mystifize: BIGBANG filming their MV for new single in Seoul today for imminent comeback, with the aim for MADE album to be released by…\n",
      "[15]\t798356473755660288\t💛ไฟนอลฉันต้องรอด:RT @_firstsnow: Taeyeon - Pops in Seoul (11:11 MV Shooting BTS) https://t.co/FXhq6jmGLN\n",
      "[16]\t798356470219739136\t서울시여성가족재단:@lGmyaQRQipfRI0u 총대님~ 서울시여성가족재단 추모자료 기록 담당자입니다~ 연락좀 부탁드려요~~ 02-810-5053입니다~~\n",
      "[17]\t798356469091438592\t비타민 도:Do you have any idea to build start up? Just come here (at Seoul Global Startup Center (서울 글로벌 창업센터)) [pic] — https://t.co/Yf8F0V1BLR\n",
      "[18]\t798356412128632833\t김민정:@KIMHUIJIN 카로날이 절 구원해주었습니다^^\n",
      "[19]\t798356376950976512\tKTO Manila:Taste Korean cuisine at Nosabonga Arirang (노사봉가 아리랑) in Seoul! #VisitKorea\n",
      "\n",
      "https://t.co/Q6AK3vzCc7 https://t.co/wG0yHLkkoP\n"
     ]
    }
   ],
   "source": [
    "for i,tweet in enumerate(tsearch_json['statuses']):\n",
    "    print \"[%d]\\t%d\\t%s:%s\" % (i,tweet['id'],tweet['user']['name'],tweet['text'])"
   ]
  }
 ],
 "metadata": {
  "kernelspec": {
   "display_name": "Python [Root]",
   "language": "python",
   "name": "Python [Root]"
  },
  "language_info": {
   "codemirror_mode": {
    "name": "ipython",
    "version": 2
   },
   "file_extension": ".py",
   "mimetype": "text/x-python",
   "name": "python",
   "nbconvert_exporter": "python",
   "pygments_lexer": "ipython2",
   "version": "2.7.12"
  }
 },
 "nbformat": 4,
 "nbformat_minor": 0
}
