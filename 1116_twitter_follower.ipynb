{
 "cells": [
  {
   "cell_type": "code",
   "execution_count": 1,
   "metadata": {
    "collapsed": true
   },
   "outputs": [],
   "source": [
    "import os\n",
    "keyPath=os.path.join(os.getcwd(),'src','twitter.properties')\n",
    "\n",
    "f=open(keyPath,'r')\n",
    "lines=f.readlines()\n",
    "\n",
    "def getKey(keyPath):\n",
    "    d=dict()\n",
    "    f=open(keyPath,'r')\n",
    "    lines=f.readlines()\n",
    "    for line in lines:\n",
    "        row=line.split('=')\n",
    "        row0=row[0]\n",
    "        d[row0]=row[1].strip()\n",
    "    return d\n",
    "\n",
    "key=getKey(keyPath)"
   ]
  },
  {
   "cell_type": "code",
   "execution_count": 2,
   "metadata": {
    "collapsed": true
   },
   "outputs": [],
   "source": [
    "import oauth2 as oauth\n",
    "import json\n",
    "\n",
    "consumer = oauth.Consumer(key=key['CONSUMERKEY'], secret=key['CONSUMERSECRET'])\n",
    "token=oauth.Token(key=key['ACCESSTOKEN'], secret=key['ACCESSTOKENSECRET'])"
   ]
  },
  {
   "cell_type": "code",
   "execution_count": 3,
   "metadata": {
    "collapsed": true
   },
   "outputs": [],
   "source": [
    "client = oauth.Client(consumer, token)"
   ]
  },
  {
   "cell_type": "code",
   "execution_count": 4,
   "metadata": {
    "collapsed": false
   },
   "outputs": [
    {
     "name": "stdout",
     "output_type": "stream",
     "text": [
      "Help on method request in module oauth2:\n",
      "\n",
      "request(self, uri, method='GET', body='', headers=None, redirections=5, connection_type=None) method of oauth2.Client instance\n",
      "\n"
     ]
    }
   ],
   "source": [
    "help(client.request)"
   ]
  },
  {
   "cell_type": "code",
   "execution_count": 5,
   "metadata": {
    "collapsed": true
   },
   "outputs": [],
   "source": [
    "import urllib\n",
    "url = \"https://api.twitter.com/1.1/followers/list.json\"\n",
    "\n",
    "response, content = client.request(url, method=\"GET\")\n",
    "tfollower_json = json.loads(content)"
   ]
  },
  {
   "cell_type": "code",
   "execution_count": 6,
   "metadata": {
    "collapsed": false
   },
   "outputs": [
    {
     "name": "stdout",
     "output_type": "stream",
     "text": [
      "5\n"
     ]
    }
   ],
   "source": [
    "print len(tfollower_json)"
   ]
  },
  {
   "cell_type": "code",
   "execution_count": 7,
   "metadata": {
    "collapsed": false,
    "scrolled": true
   },
   "outputs": [
    {
     "name": "stdout",
     "output_type": "stream",
     "text": [
      "795428207121952768 Smile_ReGiNa21\n",
      "790236834328481792 all_flowing\n",
      "725285758987169792 hjm322016\n",
      "769560548220346368 blue_green_navy\n",
      "723705775344877568 bellesunset220\n",
      "717497082542592000 soul_safe1718\n",
      "163836101 lavieestbelle17\n",
      "758503539047927808 something_hp\n",
      "741106204143849473 hanayang0207\n",
      "740734737178710018 miso4481\n",
      "720063023159771137 aus0410\n",
      "47823098 Hello2O16\n",
      "4334655613 sugarfree7unde1\n",
      "3128743866 dksal1212\n",
      "721332496047034368 gidoc9999\n",
      "729365358600032256 li02508731\n",
      "4713896053 saesong_\n",
      "2552982906 yesjacintaarco\n",
      "4729010660 everyhappy0811\n",
      "106379129 Jaemyung_Lee\n"
     ]
    }
   ],
   "source": [
    "for i in tfollower_json['users']:\n",
    "    print i['id'],i['screen_name']"
   ]
  }
 ],
 "metadata": {
  "kernelspec": {
   "display_name": "Python [Root]",
   "language": "python",
   "name": "Python [Root]"
  },
  "language_info": {
   "codemirror_mode": {
    "name": "ipython",
    "version": 2
   },
   "file_extension": ".py",
   "mimetype": "text/x-python",
   "name": "python",
   "nbconvert_exporter": "python",
   "pygments_lexer": "ipython2",
   "version": "2.7.12"
  }
 },
 "nbformat": 4,
 "nbformat_minor": 0
}
