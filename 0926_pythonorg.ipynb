{
 "cells": [
  {
   "cell_type": "code",
   "execution_count": null,
   "metadata": {
    "collapsed": true
   },
   "outputs": [],
   "source": []
  },
  {
   "cell_type": "code",
   "execution_count": 27,
   "metadata": {
    "collapsed": false
   },
   "outputs": [
    {
     "name": "stdout",
     "output_type": "stream",
     "text": [
      "Server: nginx\r\n",
      "Content-Type: text/html; charset=utf-8\r\n",
      "X-Frame-Options: SAMEORIGIN\r\n",
      "X-Clacks-Overhead: GNU Terry Pratchett\r\n",
      "Content-Length: 47424\r\n",
      "Accept-Ranges: bytes\r\n",
      "Date: Mon, 26 Sep 2016 03:29:50 GMT\r\n",
      "Via: 1.1 varnish\r\n",
      "Age: 2708\r\n",
      "Connection: close\r\n",
      "X-Served-By: cache-nrt6126-NRT\r\n",
      "X-Cache: HIT\r\n",
      "X-Cache-Hits: 2\r\n",
      "Vary: Cookie\r\n",
      "Public-Key-Pins: max-age=600; includeSubDomains; pin-sha256=\"WoiWRyIOVNa9ihaBciRSC7XHjliYS9VwUGOIud4PB18=\"; pin-sha256=\"5C8kvU039KouVrl52D0eZSGf4Onjo4Khs8tmyTlV3nU=\"; pin-sha256=\"5C8kvU039KouVrl52D0eZSGf4Onjo4Khs8tmyTlV3nU=\"; pin-sha256=\"lCppFqbkrlJ3EcVFAkeip0+44VaoJUymbnOaEUk7tEU=\"; pin-sha256=\"TUDnr0MEoJ3of7+YliBMBVFB4/gJsv5zO7IxD9+YoWI=\"; pin-sha256=\"x4QzPSC810K5/cMjb05Qm4k3Bw5zBn4lTdO/nEW/Td4=\";\r\n",
      "Strict-Transport-Security: max-age=63072000; includeSubDomains\r\n",
      "\n",
      "47424\n"
     ]
    }
   ],
   "source": [
    "import urllib\n",
    "response = urllib.urlopen('http://python.org/')\n",
    "_html = response.read()\n",
    "print response.info()\n",
    "print len(_html)"
   ]
  },
  {
   "cell_type": "code",
   "execution_count": null,
   "metadata": {
    "collapsed": true
   },
   "outputs": [],
   "source": []
  },
  {
   "cell_type": "code",
   "execution_count": 28,
   "metadata": {
    "collapsed": false
   },
   "outputs": [
    {
     "name": "stdout",
     "output_type": "stream",
     "text": [
      "<type 'str'>\n"
     ]
    }
   ],
   "source": [
    "print type(_html)"
   ]
  },
  {
   "cell_type": "code",
   "execution_count": 3,
   "metadata": {
    "collapsed": false
   },
   "outputs": [
    {
     "name": "stdout",
     "output_type": "stream",
     "text": [
      "Functions Defined\n",
      "Compound Data Types\n",
      "Intuitive Interpretation\n",
      "Quick &amp; Easy to Learn\n",
      "All the Flow You&rsquo;d Expect\n"
     ]
    }
   ],
   "source": [
    "import re\n",
    "p=re.compile('<h1>(.*?)</h1>')\n",
    "h1tags=p.findall(_html)\n",
    "for i in h1tags:\n",
    "    print i"
   ]
  },
  {
   "cell_type": "code",
   "execution_count": 1,
   "metadata": {
    "collapsed": false
   },
   "outputs": [
    {
     "ename": "ImportError",
     "evalue": "cannot import name Beautifulsoup",
     "output_type": "error",
     "traceback": [
      "\u001b[1;31m---------------------------------------------------------------------------\u001b[0m",
      "\u001b[1;31mImportError\u001b[0m                               Traceback (most recent call last)",
      "\u001b[1;32m<ipython-input-1-a523c224f051>\u001b[0m in \u001b[0;36m<module>\u001b[1;34m()\u001b[0m\n\u001b[1;32m----> 1\u001b[1;33m \u001b[1;32mfrom\u001b[0m \u001b[0mbs4\u001b[0m \u001b[1;32mimport\u001b[0m \u001b[0mBeautifulsoup\u001b[0m\u001b[1;33m\u001b[0m\u001b[0m\n\u001b[0m",
      "\u001b[1;31mImportError\u001b[0m: cannot import name Beautifulsoup"
     ]
    }
   ],
   "source": [
    "from bs4 import Beautifulsoup"
   ]
  },
  {
   "cell_type": "code",
   "execution_count": 2,
   "metadata": {
    "collapsed": false
   },
   "outputs": [
    {
     "ename": "NameError",
     "evalue": "name 'urlopen' is not defined",
     "output_type": "error",
     "traceback": [
      "\u001b[1;31m---------------------------------------------------------------------------\u001b[0m",
      "\u001b[1;31mNameError\u001b[0m                                 Traceback (most recent call last)",
      "\u001b[1;32m<ipython-input-2-0b02cd931c33>\u001b[0m in \u001b[0;36m<module>\u001b[1;34m()\u001b[0m\n\u001b[1;32m----> 1\u001b[1;33m \u001b[0m_html\u001b[0m\u001b[1;33m=\u001b[0m\u001b[0murlopen\u001b[0m\u001b[1;33m(\u001b[0m\u001b[1;34m'http://python.org'\u001b[0m\u001b[1;33m)\u001b[0m\u001b[1;33m\u001b[0m\u001b[0m\n\u001b[0m",
      "\u001b[1;31mNameError\u001b[0m: name 'urlopen' is not defined"
     ]
    }
   ],
   "source": [
    "_html=urlopen('http://python.org')"
   ]
  },
  {
   "cell_type": "code",
   "execution_count": 13,
   "metadata": {
    "collapsed": false
   },
   "outputs": [
    {
     "ename": "NameError",
     "evalue": "name 'BeautifulSoup' is not defined",
     "output_type": "error",
     "traceback": [
      "\u001b[1;31m---------------------------------------------------------------------------\u001b[0m",
      "\u001b[1;31mNameError\u001b[0m                                 Traceback (most recent call last)",
      "\u001b[1;32m<ipython-input-13-b16a03bcb3cf>\u001b[0m in \u001b[0;36m<module>\u001b[1;34m()\u001b[0m\n\u001b[1;32m----> 1\u001b[1;33m \u001b[0msoup\u001b[0m\u001b[1;33m=\u001b[0m\u001b[0mBeautifulSoup\u001b[0m\u001b[1;33m(\u001b[0m\u001b[0m_html\u001b[0m\u001b[1;33m)\u001b[0m\u001b[1;33m\u001b[0m\u001b[0m\n\u001b[0m",
      "\u001b[1;31mNameError\u001b[0m: name 'BeautifulSoup' is not defined"
     ]
    }
   ],
   "source": [
    "soup=BeautifulSoup(_html)"
   ]
  },
  {
   "cell_type": "code",
   "execution_count": 14,
   "metadata": {
    "collapsed": false
   },
   "outputs": [
    {
     "ename": "NameError",
     "evalue": "name 'soup' is not defined",
     "output_type": "error",
     "traceback": [
      "\u001b[1;31m---------------------------------------------------------------------------\u001b[0m",
      "\u001b[1;31mNameError\u001b[0m                                 Traceback (most recent call last)",
      "\u001b[1;32m<ipython-input-14-40e237aa8969>\u001b[0m in \u001b[0;36m<module>\u001b[1;34m()\u001b[0m\n\u001b[1;32m----> 1\u001b[1;33m \u001b[0msoup\u001b[0m\u001b[1;33m.\u001b[0m\u001b[0mfindAll\u001b[0m\u001b[1;33m(\u001b[0m\u001b[1;34m'a'\u001b[0m\u001b[1;33m)\u001b[0m\u001b[1;33m\u001b[0m\u001b[0m\n\u001b[0m",
      "\u001b[1;31mNameError\u001b[0m: name 'soup' is not defined"
     ]
    }
   ],
   "source": [
    "soup.findAll('a')"
   ]
  },
  {
   "cell_type": "code",
   "execution_count": null,
   "metadata": {
    "collapsed": true
   },
   "outputs": [],
   "source": [
    "for tag in atags:\n",
    "    print tag.attrs['href']"
   ]
  },
  {
   "cell_type": "code",
   "execution_count": 16,
   "metadata": {
    "collapsed": false
   },
   "outputs": [
    {
     "name": "stdout",
     "output_type": "stream",
     "text": [
      "This article is semi-protected to promote compliance with the policy on biographies of living people\n"
     ]
    },
    {
     "ename": "KeyError",
     "evalue": "'title'",
     "output_type": "error",
     "traceback": [
      "\u001b[1;31m---------------------------------------------------------------------------\u001b[0m",
      "\u001b[1;31mKeyError\u001b[0m                                  Traceback (most recent call last)",
      "\u001b[1;32m<ipython-input-16-f1c3f3345407>\u001b[0m in \u001b[0;36m<module>\u001b[1;34m()\u001b[0m\n\u001b[0;32m      5\u001b[0m \u001b[1;32mfor\u001b[0m \u001b[0mlink\u001b[0m \u001b[1;32min\u001b[0m \u001b[0mbsObj\u001b[0m\u001b[1;33m.\u001b[0m\u001b[0mfindAll\u001b[0m\u001b[1;33m(\u001b[0m\u001b[1;34m\"a\"\u001b[0m\u001b[1;33m)\u001b[0m\u001b[1;33m:\u001b[0m\u001b[1;33m\u001b[0m\u001b[0m\n\u001b[0;32m      6\u001b[0m     \u001b[1;32mif\u001b[0m \u001b[1;34m'href'\u001b[0m \u001b[1;32min\u001b[0m \u001b[0mlink\u001b[0m\u001b[1;33m.\u001b[0m\u001b[0mattrs\u001b[0m\u001b[1;33m:\u001b[0m\u001b[1;33m\u001b[0m\u001b[0m\n\u001b[1;32m----> 7\u001b[1;33m         \u001b[1;32mprint\u001b[0m\u001b[1;33m(\u001b[0m\u001b[0mlink\u001b[0m\u001b[1;33m.\u001b[0m\u001b[0mattrs\u001b[0m\u001b[1;33m[\u001b[0m\u001b[1;34m'title'\u001b[0m\u001b[1;33m]\u001b[0m\u001b[1;33m)\u001b[0m\u001b[1;33m\u001b[0m\u001b[0m\n\u001b[0m",
      "\u001b[1;31mKeyError\u001b[0m: 'title'"
     ]
    }
   ],
   "source": [
    "from urllib import urlopen\n",
    "from bs4 import BeautifulSoup\n",
    "_html = urlopen(\"http://en.wikipedia.org/wiki/Kevin_Bacon\")\n",
    "bsObj = BeautifulSoup(_html, \"lxml\")\n",
    "for link in bsObj.findAll(\"a\"):\n",
    "    if 'href' in link.attrs:\n",
    "        print(link.attrs['title'])"
   ]
  },
  {
   "cell_type": "code",
   "execution_count": 30,
   "metadata": {
    "collapsed": true
   },
   "outputs": [],
   "source": [
    "from lxml import etree"
   ]
  },
  {
   "cell_type": "code",
   "execution_count": 34,
   "metadata": {
    "collapsed": false
   },
   "outputs": [
    {
     "data": {
      "text/plain": [
       "str"
      ]
     },
     "execution_count": 34,
     "metadata": {},
     "output_type": "execute_result"
    }
   ],
   "source": [
    "type(_html)"
   ]
  },
  {
   "cell_type": "code",
   "execution_count": 38,
   "metadata": {
    "collapsed": false
   },
   "outputs": [],
   "source": [
    "_htmlTree=etree.HTML(_html)"
   ]
  },
  {
   "cell_type": "code",
   "execution_count": 39,
   "metadata": {
    "collapsed": true
   },
   "outputs": [],
   "source": [
    "nodes = _htmlTree.xpath('//*[@href]')"
   ]
  },
  {
   "cell_type": "code",
   "execution_count": 42,
   "metadata": {
    "collapsed": false
   },
   "outputs": [
    {
     "data": {
      "text/plain": [
       "list"
      ]
     },
     "execution_count": 42,
     "metadata": {},
     "output_type": "execute_result"
    }
   ],
   "source": [
    "type(nodes)"
   ]
  },
  {
   "cell_type": "code",
   "execution_count": 40,
   "metadata": {
    "collapsed": false
   },
   "outputs": [
    {
     "name": "stdout",
     "output_type": "stream",
     "text": [
      "206\n"
     ]
    }
   ],
   "source": [
    "print len(nodes)"
   ]
  },
  {
   "cell_type": "code",
   "execution_count": null,
   "metadata": {
    "collapsed": true
   },
   "outputs": [],
   "source": []
  },
  {
   "cell_type": "code",
   "execution_count": 41,
   "metadata": {
    "collapsed": false,
    "scrolled": false
   },
   "outputs": [
    {
     "name": "stdout",
     "output_type": "stream",
     "text": [
      "{'href': '//ajax.googleapis.com/ajax/libs/jquery/1.8.2/jquery.min.js', 'rel': 'prefetch'}\n",
      "{'href': '/static/stylesheets/style.css', 'type': 'text/css', 'rel': 'stylesheet', 'title': 'default'}\n",
      "{'media': 'not print, braille, embossed, speech, tty', 'href': '/static/stylesheets/mq.css', 'type': 'text/css', 'rel': 'stylesheet'}\n",
      "{'href': '/static/favicon.ico', 'type': 'image/x-icon', 'rel': 'icon'}\n",
      "{'href': '/static/apple-touch-icon-144x144-precomposed.png', 'rel': 'apple-touch-icon-precomposed', 'sizes': '144x144'}\n",
      "{'href': '/static/apple-touch-icon-114x114-precomposed.png', 'rel': 'apple-touch-icon-precomposed', 'sizes': '114x114'}\n",
      "{'href': '/static/apple-touch-icon-72x72-precomposed.png', 'rel': 'apple-touch-icon-precomposed', 'sizes': '72x72'}\n",
      "{'href': '/static/apple-touch-icon-precomposed.png', 'rel': 'apple-touch-icon-precomposed'}\n",
      "{'href': '/static/apple-touch-icon-precomposed.png', 'rel': 'apple-touch-icon'}\n",
      "{'href': '/static/humans.txt', 'rel': 'author'}\n",
      "{'href': '#content', 'title': 'Skip to content'}\n",
      "{'href': '#python-network', 'aria-hidden': 'true', 'id': 'close-python-network', 'class': 'jump-link'}\n",
      "{'href': '/', 'class': 'current_item selectedcurrent_branch selected', 'title': 'The Python Programming Language'}\n",
      "{'href': '/psf-landing/', 'title': 'The Python Software Foundation'}\n",
      "{'href': 'https://docs.python.org', 'title': 'Python Documentation'}\n",
      "{'href': 'https://pypi.python.org/', 'title': 'Python Package Index'}\n",
      "{'href': '/jobs/', 'title': 'Python Job Board'}\n",
      "{'href': '/community/', 'title': 'Python Community'}\n",
      "{'href': '#top', 'aria-hidden': 'true', 'id': 'python-network', 'class': 'jump-link'}\n",
      "{'href': '/'}\n",
      "{'href': '#site-map', 'id': 'site-map-link', 'class': 'jump-to-menu'}\n",
      "{'href': '#', 'class': 'action-trigger'}\n",
      "{'href': 'javascript:;', 'class': 'text-shrink', 'title': 'Make Text Smaller'}\n",
      "{'href': 'javascript:;', 'class': 'text-grow', 'title': 'Make Text Larger'}\n",
      "{'href': 'javascript:;', 'class': 'text-reset', 'title': 'Reset any font size changes I have made'}\n",
      "{'href': '#', 'class': 'action-trigger'}\n",
      "{'href': 'http://plus.google.com/+Python'}\n",
      "{'href': 'http://www.facebook.com/pythonlang?fref=ts'}\n",
      "{'href': 'http://twitter.com/ThePSF'}\n",
      "{'href': '/community/irc/'}\n",
      "{'href': '/accounts/login/', 'title': 'Sign Up or Sign In to Python.org'}\n",
      "{'href': '/accounts/signup/'}\n",
      "{'href': '/accounts/login/'}\n",
      "{'href': '/about/', 'class': '', 'title': ''}\n",
      "{'href': '/about/apps/', 'title': ''}\n",
      "{'href': '/about/quotes/', 'title': ''}\n",
      "{'href': '/about/gettingstarted/', 'title': ''}\n",
      "{'href': '/about/help/', 'title': ''}\n",
      "{'href': 'http://brochure.getpython.info/', 'title': ''}\n",
      "{'href': '/downloads/', 'class': '', 'title': ''}\n",
      "{'href': '/downloads/', 'title': ''}\n",
      "{'href': '/downloads/source/', 'title': ''}\n",
      "{'href': '/downloads/windows/', 'title': ''}\n",
      "{'href': '/downloads/mac-osx/', 'title': ''}\n",
      "{'href': '/download/other/', 'title': ''}\n",
      "{'href': 'https://docs.python.org/3/license.html', 'title': ''}\n",
      "{'href': '/download/alternatives', 'title': ''}\n",
      "{'href': '/doc/', 'class': '', 'title': ''}\n",
      "{'href': '/doc/', 'title': ''}\n",
      "{'href': '/doc/av', 'title': ''}\n",
      "{'href': 'https://wiki.python.org/moin/BeginnersGuide', 'title': ''}\n",
      "{'href': 'https://docs.python.org/devguide/', 'title': ''}\n",
      "{'href': 'https://docs.python.org/faq/', 'title': ''}\n",
      "{'href': 'http://wiki.python.org/moin/Languages', 'title': ''}\n",
      "{'href': 'http://python.org/dev/peps/', 'title': ''}\n",
      "{'href': 'https://wiki.python.org/moin/PythonBooks', 'title': ''}\n",
      "{'href': '/community/', 'class': '', 'title': ''}\n",
      "{'href': '/community/diversity/', 'title': ''}\n",
      "{'href': '/community/irc/', 'title': ''}\n",
      "{'href': '/community/lists/', 'title': ''}\n",
      "{'href': '/community/workshops/', 'title': ''}\n",
      "{'href': '/community/sigs/', 'title': ''}\n",
      "{'href': 'https://wiki.python.org/moin/', 'title': ''}\n",
      "{'href': '/community/logos/', 'title': ''}\n",
      "{'href': '/community/merchandise/', 'title': ''}\n",
      "{'href': '/community/awards', 'title': ''}\n",
      "{'href': '/about/success/', 'class': '', 'title': 'success-stories'}\n",
      "{'href': '/about/success/#arts', 'title': ''}\n",
      "{'href': '/about/success/#business', 'title': ''}\n",
      "{'href': '/about/success/#education', 'title': ''}\n",
      "{'href': '/about/success/#engineering', 'title': ''}\n",
      "{'href': '/about/success/#government', 'title': ''}\n",
      "{'href': '/about/success/#scientific', 'title': ''}\n",
      "{'href': '/about/success/#software-development', 'title': ''}\n",
      "{'href': '/blogs/', 'class': '', 'title': 'News from around the Python world'}\n",
      "{'href': '/blogs/', 'title': 'Python Insider Blog Posts'}\n",
      "{'href': 'http://planetpython.org/', 'title': 'Planet Python'}\n",
      "{'href': 'http://pyfound.blogspot.com/', 'title': 'PSF Blog'}\n",
      "{'href': 'http://pycon.blogspot.com/', 'title': 'PyCon Blog'}\n",
      "{'href': '/events/', 'class': '', 'title': ''}\n",
      "{'href': '/events/python-events', 'title': ''}\n",
      "{'href': '/events/python-user-group/', 'title': ''}\n",
      "{'href': '/events/python-events/past/', 'title': ''}\n",
      "{'href': '/events/python-user-group/past/', 'title': ''}\n",
      "{'href': 'https://wiki.python.org/moin/PythonEventsCalendar#Submitting_an_Event', 'title': ''}\n",
      "{'href': '/shell/', 'data-shell-container': '#dive-into-python', 'class': 'button prompt', 'id': 'start-shell'}\n",
      "{'href': '//docs.python.org/3/tutorial/controlflow.html#defining-functions'}\n",
      "{'href': '//docs.python.org/3/tutorial/introduction.html#lists'}\n",
      "{'href': 'http://docs.python.org/3/tutorial/introduction.html#using-python-as-a-calculator'}\n",
      "{'href': '//docs.python.org/3/tutorial/'}\n",
      "{'href': '//docs.python.org/3/tutorial/controlflow.html'}\n",
      "{'href': '/doc/', 'class': 'readmore'}\n",
      "{'href': '/about/gettingstarted/'}\n",
      "{'href': 'https://wiki.python.org/moin/Python2orPython3'}\n",
      "{'href': '/downloads/release/python-352/'}\n",
      "{'href': '/downloads/release/python-2712/'}\n",
      "{'href': 'https://docs.python.org'}\n",
      "{'href': '//jobs.python.org'}\n",
      "{'href': 'http://blog.python.org', 'title': 'More News'}\n",
      "{'href': 'http://feedproxy.google.com/~r/PythonInsider/~3/ZLTGxjKhYp0/python-core-development-sprint-2016-36.html'}\n",
      "{'href': 'http://feedproxy.google.com/~r/PythonInsider/~3/6vXS6z9YHg0/python-360-beta-1-is-now-available.html'}\n",
      "{'href': 'http://feedproxy.google.com/~r/PythonInsider/~3/ukG8L0FEq2Q/python-360-alpha-4-preview-release-is.html'}\n",
      "{'href': 'http://feedproxy.google.com/~r/PythonInsider/~3/6i6vUY_x_SE/python-360-alpha-3-preview-release-is.html'}\n",
      "{'href': 'http://feedproxy.google.com/~r/PythonInsider/~3/1zUlkKxW27U/python-2712-released.html'}\n",
      "{'href': '/events/calendars/', 'title': 'More Events'}\n",
      "{'href': '/events/python-events/446/'}\n",
      "{'href': '/events/python-user-group/454/'}\n",
      "{'href': '/events/python-events/449/'}\n",
      "{'href': '/events/python-events/417/'}\n",
      "{'href': '/events/python-events/461/'}\n",
      "{'href': '/success-stories/', 'title': 'More Success Stories'}\n",
      "{'href': '/success-stories/industrial-light-magic-runs-python/'}\n",
      "{'href': '/success-stories/industrial-light-magic-runs-python/'}\n",
      "{'href': '/about/apps', 'title': 'More Applications'}\n",
      "{'href': 'http://www.djangoproject.com/', 'class': 'tag'}\n",
      "{'href': 'http://www.pylonsproject.org/', 'class': 'tag'}\n",
      "{'href': 'http://bottlepy.org', 'class': 'tag'}\n",
      "{'href': 'http://tornadoweb.org', 'class': 'tag'}\n",
      "{'href': 'http://flask.pocoo.org/', 'class': 'tag'}\n",
      "{'href': 'http://www.web2py.com/', 'class': 'tag'}\n",
      "{'href': 'http://www.wxpython.org/', 'class': 'tag'}\n",
      "{'href': 'http://wiki.python.org/moin/TkInter', 'class': 'tag'}\n",
      "{'href': 'http://www.pygtk.org', 'class': 'tag'}\n",
      "{'href': 'https://wiki.gnome.org/Projects/PyGObject', 'class': 'tag'}\n",
      "{'href': 'http://www.riverbankcomputing.co.uk/software/pyqt/intro', 'class': 'tag'}\n",
      "{'href': 'http://www.scipy.org', 'class': 'tag'}\n",
      "{'href': 'http://pandas.pydata.org/', 'class': 'tag'}\n",
      "{'href': 'http://ipython.org', 'class': 'tag'}\n",
      "{'href': 'http://buildbot.net/', 'class': 'tag'}\n",
      "{'href': 'http://trac.edgewall.org/', 'class': 'tag'}\n",
      "{'href': 'http://roundup.sourceforge.net/', 'class': 'tag'}\n",
      "{'href': 'http://www.ansible.com', 'class': 'tag'}\n",
      "{'href': 'http://www.saltstack.com', 'class': 'tag'}\n",
      "{'href': 'https://www.openstack.org', 'class': 'tag'}\n",
      "{'href': '/dev/peps/'}\n",
      "{'href': '/dev/peps/peps.rss', 'class': 'rss-link', 'aria-hidden': 'true'}\n",
      "{'href': '/psf/'}\n",
      "{'href': '/psf/', 'class': 'readmore'}\n",
      "{'href': '/users/membership/', 'class': 'button'}\n",
      "{'href': '/psf/donations/', 'class': 'button'}\n",
      "{'href': '#python-network', 'id': 'back-to-top-1', 'class': 'jump-link'}\n",
      "{'href': '/about/'}\n",
      "{'href': '/about/apps/', 'title': ''}\n",
      "{'href': '/about/quotes/', 'title': ''}\n",
      "{'href': '/about/gettingstarted/', 'title': ''}\n",
      "{'href': '/about/help/', 'title': ''}\n",
      "{'href': 'http://brochure.getpython.info/', 'title': ''}\n",
      "{'href': '/downloads/'}\n",
      "{'href': '/downloads/', 'title': ''}\n",
      "{'href': '/downloads/source/', 'title': ''}\n",
      "{'href': '/downloads/windows/', 'title': ''}\n",
      "{'href': '/downloads/mac-osx/', 'title': ''}\n",
      "{'href': '/download/other/', 'title': ''}\n",
      "{'href': 'https://docs.python.org/3/license.html', 'title': ''}\n",
      "{'href': '/download/alternatives', 'title': ''}\n",
      "{'href': '/doc/'}\n",
      "{'href': '/doc/', 'title': ''}\n",
      "{'href': '/doc/av', 'title': ''}\n",
      "{'href': 'https://wiki.python.org/moin/BeginnersGuide', 'title': ''}\n",
      "{'href': 'https://docs.python.org/devguide/', 'title': ''}\n",
      "{'href': 'https://docs.python.org/faq/', 'title': ''}\n",
      "{'href': 'http://wiki.python.org/moin/Languages', 'title': ''}\n",
      "{'href': 'http://python.org/dev/peps/', 'title': ''}\n",
      "{'href': 'https://wiki.python.org/moin/PythonBooks', 'title': ''}\n",
      "{'href': '/community/'}\n",
      "{'href': '/community/diversity/', 'title': ''}\n",
      "{'href': '/community/irc/', 'title': ''}\n",
      "{'href': '/community/lists/', 'title': ''}\n",
      "{'href': '/community/workshops/', 'title': ''}\n",
      "{'href': '/community/sigs/', 'title': ''}\n",
      "{'href': 'https://wiki.python.org/moin/', 'title': ''}\n",
      "{'href': '/community/logos/', 'title': ''}\n",
      "{'href': '/community/merchandise/', 'title': ''}\n",
      "{'href': '/community/awards', 'title': ''}\n",
      "{'href': '/about/success/', 'title': 'success-stories'}\n",
      "{'href': '/about/success/#arts', 'title': ''}\n",
      "{'href': '/about/success/#business', 'title': ''}\n",
      "{'href': '/about/success/#education', 'title': ''}\n",
      "{'href': '/about/success/#engineering', 'title': ''}\n",
      "{'href': '/about/success/#government', 'title': ''}\n",
      "{'href': '/about/success/#scientific', 'title': ''}\n",
      "{'href': '/about/success/#software-development', 'title': ''}\n",
      "{'href': '/blogs/', 'title': 'News from around the Python world'}\n",
      "{'href': '/blogs/', 'title': 'Python Insider Blog Posts'}\n",
      "{'href': 'http://planetpython.org/', 'title': 'Planet Python'}\n",
      "{'href': 'http://pyfound.blogspot.com/', 'title': 'PSF Blog'}\n",
      "{'href': 'http://pycon.blogspot.com/', 'title': 'PyCon Blog'}\n",
      "{'href': '/events/'}\n",
      "{'href': '/events/python-events', 'title': ''}\n",
      "{'href': '/events/python-user-group/', 'title': ''}\n",
      "{'href': '/events/python-events/past/', 'title': ''}\n",
      "{'href': '/events/python-user-group/past/', 'title': ''}\n",
      "{'href': 'https://wiki.python.org/moin/PythonEventsCalendar#Submitting_an_Event', 'title': ''}\n",
      "{'href': '/dev/'}\n",
      "{'href': 'http://docs.python.org/devguide/', 'title': ''}\n",
      "{'href': 'http://bugs.python.org/', 'title': ''}\n",
      "{'href': 'https://mail.python.org/mailman/listinfo/python-dev', 'title': ''}\n",
      "{'href': 'http://pythonmentors.com/', 'title': ''}\n",
      "{'href': '#python-network', 'id': 'back-to-top-2', 'class': 'jump-link'}\n",
      "{'href': '/about/help/'}\n",
      "{'href': '/community/diversity/'}\n",
      "{'href': 'https://github.com/python/pythondotorg/issues'}\n",
      "{'href': 'https://status.python.org/'}\n",
      "{'href': '/psf-landing/'}\n",
      "{'href': '/about/legal/'}\n",
      "{'href': '/privacy/'}\n"
     ]
    }
   ],
   "source": [
    "for node in nodes:\n",
    "    print node.attrib"
   ]
  },
  {
   "cell_type": "code",
   "execution_count": 43,
   "metadata": {
    "collapsed": true
   },
   "outputs": [],
   "source": [
    "import lxml.html"
   ]
  },
  {
   "cell_type": "code",
   "execution_count": 44,
   "metadata": {
    "collapsed": true
   },
   "outputs": [],
   "source": [
    "from lxml.cssselect import CSSSelector"
   ]
  },
  {
   "cell_type": "raw",
   "metadata": {},
   "source": [
    "import requests"
   ]
  },
  {
   "cell_type": "code",
   "execution_count": 46,
   "metadata": {
    "collapsed": true
   },
   "outputs": [],
   "source": [
    "import requests"
   ]
  },
  {
   "cell_type": "code",
   "execution_count": 50,
   "metadata": {
    "collapsed": false
   },
   "outputs": [],
   "source": [
    "r=requests.get('http://python.org')"
   ]
  },
  {
   "cell_type": "code",
   "execution_count": 52,
   "metadata": {
    "collapsed": false
   },
   "outputs": [],
   "source": [
    "html=lxml.html.fromstring(r.text)"
   ]
  },
  {
   "cell_type": "code",
   "execution_count": null,
   "metadata": {
    "collapsed": true
   },
   "outputs": [],
   "source": []
  },
  {
   "cell_type": "code",
   "execution_count": null,
   "metadata": {
    "collapsed": true
   },
   "outputs": [],
   "source": [
    "sel=cssselector('a[href]')b"
   ]
  },
  {
   "cell_type": "code",
   "execution_count": null,
   "metadata": {
    "collapsed": true
   },
   "outputs": [],
   "source": []
  },
  {
   "cell_type": "markdown",
   "metadata": {},
   "source": [
    "##문제 2 : 웹파일을 가져와서 자료구조에 넣기"
   ]
  },
  {
   "cell_type": "code",
   "execution_count": 1,
   "metadata": {
    "collapsed": false
   },
   "outputs": [
    {
     "ename": "NameError",
     "evalue": "name 'urllib' is not defined",
     "output_type": "error",
     "traceback": [
      "\u001b[1;31m---------------------------------------------------------------------------\u001b[0m",
      "\u001b[1;31mNameError\u001b[0m                                 Traceback (most recent call last)",
      "\u001b[1;32m<ipython-input-1-6890113c5e03>\u001b[0m in \u001b[0;36m<module>\u001b[1;34m()\u001b[0m\n\u001b[0;32m      1\u001b[0m \u001b[1;32mimport\u001b[0m \u001b[0murllib2\u001b[0m\u001b[1;33m\u001b[0m\u001b[0m\n\u001b[0;32m      2\u001b[0m \u001b[0murl\u001b[0m\u001b[1;33m=\u001b[0m\u001b[1;34m'http://archive.ics.uci.edu/ml/machine-learning-databases/horse-colic/horse-colic.data'\u001b[0m\u001b[1;33m\u001b[0m\u001b[0m\n\u001b[1;32m----> 3\u001b[1;33m \u001b[0murllib\u001b[0m\u001b[1;33m\u001b[0m\u001b[0m\n\u001b[0m",
      "\u001b[1;31mNameError\u001b[0m: name 'urllib' is not defined"
     ]
    }
   ],
   "source": [
    "import urllib2\n",
    "url='http://archive.ics.uci.edu/ml/machine-learning-databases/horse-colic/horse-colic.data'\n",
    "urllib"
   ]
  }
 ],
 "metadata": {
  "anaconda-cloud": {},
  "kernelspec": {
   "display_name": "Python [Root]",
   "language": "python",
   "name": "Python [Root]"
  },
  "language_info": {
   "codemirror_mode": {
    "name": "ipython",
    "version": 2
   },
   "file_extension": ".py",
   "mimetype": "text/x-python",
   "name": "python",
   "nbconvert_exporter": "python",
   "pygments_lexer": "ipython2",
   "version": "2.7.12"
  }
 },
 "nbformat": 4,
 "nbformat_minor": 0
}
