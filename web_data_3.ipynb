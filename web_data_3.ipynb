{
 "cells": [
  {
   "cell_type": "markdown",
   "metadata": {},
   "source": [
    "## 웹데이터 3 : wiki에서 'python'으로 검색해서 http url출력하기"
   ]
  },
  {
   "cell_type": "code",
   "execution_count": 3,
   "metadata": {
    "collapsed": false
   },
   "outputs": [
    {
     "name": "stdout",
     "output_type": "stream",
     "text": [
      "{{About|the programming language|the snake genus|Python (genus)|other uses|Python (disambiguation)}}\n",
      "{{Use dmy dates|date=August 2015}}\n",
      "{{Infobox programming language\n",
      "|name                   = Python\n",
      "|logo                   = Python logo and wordmark.svg\n",
      "|logo size              = 260px\n",
      "|paradigm               = [[multi-paradigm programming language|multi-paradigm]]: [[object-oriented programming|object-oriented]], [[imperative programming|imperative]], [[functional programming|functional]], [[procedural programming|procedural]], [[reflective programming|reflective]]\n",
      "|released               = {{Start date and age|1991|02|20|df=yes}}<ref>{{cite web|url=http://python-history.blogspot.com/2009/01/brief-timeline-of-python.html|title=The History of Python: A Brief Timeline of Python|work=[[Blogger (service)|Blogger]]|date=2009-01-20|accessdate=2016-03-20}}</ref>\n",
      "|designer               = [[Guido van Rossum]]\n",
      "|developer              = [[Python Software Foundation]]\n",
      "|latest release version = 3.5.2 / {{Start date and age|2016|06|27|df=yes}}<ref>{{cite web |url=http://blog.python.org/2016/06/python-352-and-python-345-are-now.html |title=Python 3.5.2 and Python 3.4.5 are now available |website=Python Insider |publisher=The Python Core Developers |first=Larry |last=Hastings |date=2016-06-27 |accessdate=2016-06-28}}</ref><br>2.7.12 / {{Start date and age|2016|06|28|df=yes}}<ref>{{cite web |url=http://blog.python.org/2016/06/python-2712-released.html |title=Python 2.7.12 released |website=Python Insider |publisher=The Python Core Developers |first=Benjamin |last=Peterson |date=2016-06-28 |accessdate=2016-06-28}}</ref>\n",
      "|latest preview version = 3.6.0b2 / {{Start date and age|2016|10|10}}<ref name=\"Python Release Python 3.6.0b2\">{{cite web |url=https://www.python.org/downloads/release/python-360b2/ |title=Python Release Python 3.6.0b2|publisher=Python Software Foundation|accessdate=12 October 2016}}</ref><!-- <br>2.7.9rc1 / {{Start date and age|2014|11|26|df=yes}}<ref>{{cite web |url=https://www.python.org/downloads/release/python-279rc1/ |title=Python 2.7.9 rc1 Release |publisher=Python Software Foundation |accessdate=26 November 2014}}</ref -->\n",
      "|latest preview date    = \n",
      "|typing                 = [[duck typing|duck]], [[dynamic typing|dynamic]], [[strong typing|strong]], [[gradual typing|gradual]] (as of Python 3.5)<ref>{{cite web|url=https://lwn.net/Articles/627418/|title=Type hinting for Python|publisher=LWN.net|date=24 December 2014|accessdate=5 May 2015}}</ref>\n",
      "|implementations        = [[CPython]], [[IronPython]], [[Jython]], [[MicroPython]], [[PyPy]]\n",
      "|dialects               = [[Cython]], [[RPython]], [[Stackless Python]]\n",
      "|influenced             = [[Boo (programming language)|Boo]], [[Cobra (programming language)|Cobra]], [[CoffeeScript]],<ref>{{cite web|url=http://coffeescript.org/|title=CoffeeScript borrows chained comparisons from Python}}</ref> [[D (programming language)|D]], [[F Sharp (programming language)|F#]], [[Falcon (programming language)|Falcon]], [[Genie (programming language)|Genie]],<ref>{{cite web \n",
      "|url=https://wiki.gnome.org/action/show/Projects/Genie\n",
      "|title=Genie Language - A brief guide \n",
      "|accessdate=2015-12-28}}</ref> [[Go (programming language)|Go]], [[Groovy (programming language)|Groovy]], [[JavaScript]],<ref>{{cite web\n",
      "|title = Perl and Python influences in JavaScript\n",
      "|date= 24 February 2013\n",
      "|website= www.2ality.com\n",
      "|url= http://www.2ality.com/2013/02/javascript-influences.html\n",
      "|accessdate= 15 May 2015}}</ref><ref>{{cite web\n",
      "|title = Chapter 3: The Nature of JavaScript; Influences\n",
      "|last=Rauschmayer\n",
      "|first=Axel\n",
      "|website=O'Reilly, Speaking JavaScript\n",
      "|url= http://speakingjs.com/es5/ch03.html\n",
      "|accessdate= 15 May 2015}}</ref> [[Julia (programming language)|Julia]],<ref name=Julia/> [[Nim (programming language)|Nim]], [[Ruby (programming language)|Ruby]],<ref name=\"bini\"/> [[Swift (programming language)|Swift]],<ref name=\"lattner2014\">{{cite web|url=http://nondot.org/sabre/|title=Chris Lattner's Homepage|last=Lattner|first=Chris|date=3 June 2014|accessdate=3 June 2014|publisher=Chris Lattner|quote=The Swift language is the product of tireless effort from a team of language experts, documentation gurus, compiler optimization ninjas, and an incredibly important internal dogfooding group who provided feedback to help refine and battle-test ideas. Of course, it also greatly benefited from the experiences hard-won by many other languages in the field, drawing ideas from Objective-C, Rust, Haskell, Ruby, Python, C#, CLU, and far too many others to list.}}</ref>\n",
      "|operating system       = [[Cross-platform]]\n",
      "|license                = [[Python Software Foundation License]]\n",
      "|website                = {{URL|https://www.python.org/}}\n",
      "|wikibooks              = Python Programming\n",
      "|influenced_by          = [[ABC (programming language)|ABC]],<ref name=\"faq-created\"/> [[ALGOL 68]],<ref name=\"98-interview\"/> [[C (programming language)|C]],<ref name=\"AutoNT-1\"/> [[C++]],<ref name=\"classmix\"/> [[Dylan (programming langu\n"
     ]
    }
   ],
   "source": [
    "import urllib\n",
    "keyword='Albert_Einstein'\n",
    "keyword='Python (programming language)'\n",
    "s = urllib.urlopen('http://en.wikipedia.org/w/index.php?action=raw&title='+keyword).read()\n",
    "#print s.find('Python is a widely used general-purpose')\n",
    "print s[:5000]"
   ]
  }
 ],
 "metadata": {
  "anaconda-cloud": {},
  "kernelspec": {
   "display_name": "Python [Root]",
   "language": "python",
   "name": "Python [Root]"
  },
  "language_info": {
   "codemirror_mode": {
    "name": "ipython",
    "version": 2
   },
   "file_extension": ".py",
   "mimetype": "text/x-python",
   "name": "python",
   "nbconvert_exporter": "python",
   "pygments_lexer": "ipython2",
   "version": "2.7.12"
  }
 },
 "nbformat": 4,
 "nbformat_minor": 0
}
