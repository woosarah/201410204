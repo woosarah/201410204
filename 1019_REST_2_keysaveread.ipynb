{
 "cells": [
  {
   "cell_type": "markdown",
   "metadata": {},
   "source": [
    "## REST-2 키를 저장하고 읽기"
   ]
  },
  {
   "cell_type": "code",
   "execution_count": 1,
   "metadata": {
    "collapsed": false
   },
   "outputs": [
    {
     "name": "stdout",
     "output_type": "stream",
     "text": [
      "C:\\Users\\LG-PC\\Documents\\src\\key.properties\n"
     ]
    }
   ],
   "source": [
    "import os\n",
    "keyPath=os.path.join(os.getcwd(),'src','key.properties')\n",
    "print keyPath"
   ]
  },
  {
   "cell_type": "code",
   "execution_count": 5,
   "metadata": {
    "collapsed": false
   },
   "outputs": [],
   "source": [
    "f=open(keyPath,'r')\n",
    "lines=f.readlines()"
   ]
  },
  {
   "cell_type": "code",
   "execution_count": 4,
   "metadata": {
    "collapsed": false
   },
   "outputs": [
    {
     "name": "stdout",
     "output_type": "stream",
     "text": [
      "{'a': 1, 'dataseoul': 1234}\n"
     ]
    }
   ],
   "source": [
    "d=dict()\n",
    "d['a']=1\n",
    "d['dataseoul']=1234\n",
    "print d"
   ]
  },
  {
   "cell_type": "code",
   "execution_count": 17,
   "metadata": {
    "collapsed": false
   },
   "outputs": [],
   "source": [
    "for line in lines:\n",
    "    row=line.split('=')\n",
    "    row0=row[0]\n",
    "    d[row[0]]=row[1].strip()   "
   ]
  },
  {
   "cell_type": "code",
   "execution_count": 18,
   "metadata": {
    "collapsed": false
   },
   "outputs": [
    {
     "name": "stdout",
     "output_type": "stream",
     "text": [
      "{'a': 1, 'dataseoul': '49756971476179613539737a456442', 'gokr': 'Wg1uTMuIi5MTsrdXmm5oMb4BVVIogpaU%2FqNopfMcuOx8uBzp7vPkMv46B27sQLVLYZnrj8d4jj06RESKFcUccQ%3D%3D'}\n"
     ]
    }
   ],
   "source": [
    "print d"
   ]
  },
  {
   "cell_type": "code",
   "execution_count": 34,
   "metadata": {
    "collapsed": true
   },
   "outputs": [],
   "source": [
    "def getKey(keyPath):\n",
    "    d=dict()\n",
    "    f=open(keyPath,'r')\n",
    "    for line in f.readlines():\n",
    "        row=line.split('=')\n",
    "        row0=row[0]\n",
    "        d[row[0]]=row[1].strip()\n",
    "    return d"
   ]
  },
  {
   "cell_type": "code",
   "execution_count": 35,
   "metadata": {
    "collapsed": false
   },
   "outputs": [],
   "source": [
    "import os\n",
    "keyPath=os.path.join(os.getcwd(),'src','key.properties')\n",
    "key=getKey(keyPath)"
   ]
  },
  {
   "cell_type": "code",
   "execution_count": 36,
   "metadata": {
    "collapsed": false
   },
   "outputs": [
    {
     "data": {
      "text/plain": [
       "'49756971476179613539737a456442'"
      ]
     },
     "execution_count": 36,
     "metadata": {},
     "output_type": "execute_result"
    }
   ],
   "source": [
    "key['dataseoul']"
   ]
  },
  {
   "cell_type": "code",
   "execution_count": 47,
   "metadata": {
    "collapsed": false
   },
   "outputs": [
    {
     "name": "stdout",
     "output_type": "stream",
     "text": [
      "ArpltnInforInqireSvc/getMinuDustFrcstDspth\n"
     ]
    }
   ],
   "source": [
    "SERVICE='ArpltnInforInqireSvc'\n",
    "OPERATION_NAME='getMinuDustFrcstDspth'\n",
    "#param1=os.path.join(SERVICE,OPERATION_NAME)\n",
    "param1=SERVICE+'/'+OPERATION_NAME\n",
    "print param1"
   ]
  },
  {
   "cell_type": "code",
   "execution_count": 48,
   "metadata": {
    "collapsed": false
   },
   "outputs": [
    {
     "name": "stdout",
     "output_type": "stream",
     "text": [
      "dataTerm=month\n"
     ]
    }
   ],
   "source": [
    "import urllib\n",
    "d=dict()\n",
    "d['dataTerm']='month'\n",
    "param2=urllib.urlencode(d)\n",
    "print param2"
   ]
  },
  {
   "cell_type": "code",
   "execution_count": 49,
   "metadata": {
    "collapsed": false
   },
   "outputs": [
    {
     "name": "stdout",
     "output_type": "stream",
     "text": [
      "ArpltnInforInqireSvc/getMinuDustFrcstDspth?serviceKey=Wg1uTMuIi5MTsrdXmm5oMb4BVVIogpaU%2FqNopfMcuOx8uBzp7vPkMv46B27sQLVLYZnrj8d4jj06RESKFcUccQ%3D%3D&dataTerm=month\n"
     ]
    }
   ],
   "source": [
    "params=param1+'?'+'serviceKey='+key['gokr']+'&'+param2\n",
    "print params"
   ]
  },
  {
   "cell_type": "code",
   "execution_count": 50,
   "metadata": {
    "collapsed": false
   },
   "outputs": [
    {
     "name": "stdout",
     "output_type": "stream",
     "text": [
      "http://openapi.airkorea.or.kr/openapi/services/rest/ArpltnInforInqireSvc/getMinuDustFrcstDspth?serviceKey=Wg1uTMuIi5MTsrdXmm5oMb4BVVIogpaU%2FqNopfMcuOx8uBzp7vPkMv46B27sQLVLYZnrj8d4jj06RESKFcUccQ%3D%3D&dataTerm=month\n"
     ]
    }
   ],
   "source": [
    "import urlparse\n",
    "url='http://openapi.airkorea.or.kr/openapi/services/rest/ArpltnInforInqireSvc'\n",
    "myurl=urlparse.urljoin(url,params)\n",
    "print myurl"
   ]
  }
 ],
 "metadata": {
  "kernelspec": {
   "display_name": "Python [Root]",
   "language": "python",
   "name": "Python [Root]"
  },
  "language_info": {
   "codemirror_mode": {
    "name": "ipython",
    "version": 2
   },
   "file_extension": ".py",
   "mimetype": "text/x-python",
   "name": "python",
   "nbconvert_exporter": "python",
   "pygments_lexer": "ipython2",
   "version": "2.7.12"
  }
 },
 "nbformat": 4,
 "nbformat_minor": 0
}
